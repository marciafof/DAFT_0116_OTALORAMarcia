{
  "nbformat": 4,
  "nbformat_minor": 0,
  "metadata": {
    "colab": {
      "provenance": []
    },
    "kernelspec": {
      "name": "python3",
      "display_name": "Python 3"
    },
    "language_info": {
      "name": "python"
    }
  },
  "cells": [
    {
      "cell_type": "markdown",
      "source": [
        "EX1\n",
        "Write a program to accept the price of a bike and display the road tax to be paid according to the following criteria :    \n",
        "Price                                  Tax ​\n",
        "> 100000                                15 % ​\n",
        "> 50000 and <= 100000      10% ​\n",
        "<= 50000                                5%​\n"
      ],
      "metadata": {
        "id": "724bCSltHFUN"
      }
    },
    {
      "cell_type": "code",
      "source": [
        "def bikeprice():\n",
        "    price= float(input(\"Please insert bike price\"))\n",
        "    if price <= 50000:\n",
        "      tax_rate = f\"Road tax is 5% which is {price*0.05:.2f}\"\n",
        "    elif 50000 < price <=100000:\n",
        "      tax_rate = f\"Road tax is 10% which is {price*0.1:.2f}\"\n",
        "    else:\n",
        "      tax_rate = f\"Road tax is 15% which is {price*0.15:.2f}\"\n",
        "    return tax_rate\n",
        "  \n"
      ],
      "metadata": {
        "id": "rCn3POtUHJN1"
      },
      "execution_count": null,
      "outputs": []
    },
    {
      "cell_type": "code",
      "source": [
        "bikeprice()"
      ],
      "metadata": {
        "colab": {
          "base_uri": "https://localhost:8080/",
          "height": 53
        },
        "id": "QrhfRSnoJTwi",
        "outputId": "8f06bf18-152d-44e2-c110-9958ab3b58cf"
      },
      "execution_count": null,
      "outputs": [
        {
          "name": "stdout",
          "output_type": "stream",
          "text": [
            "Please insert bike price46000\n"
          ]
        },
        {
          "output_type": "execute_result",
          "data": {
            "text/plain": [
              "'Road tax is 5% which is 2300.00'"
            ],
            "application/vnd.google.colaboratory.intrinsic+json": {
              "type": "string"
            }
          },
          "metadata": {},
          "execution_count": 2
        }
      ]
    },
    {
      "cell_type": "markdown",
      "source": [
        "Given the array of numbers , write a program to move all zeros to the end keeping  the relative order of the non-zero elements.\n"
      ],
      "metadata": {
        "id": "jxWo48pkJmB1"
      }
    },
    {
      "cell_type": "code",
      "source": [
        "#FOR A ARRAY\n",
        "arr = [ 1,0, 8, 0 , 0 , 5]\n",
        "#CREATE A LIST WITHOUT ANY ZEROS\n",
        "final_list = [ elem for elem in arr if elem != 0]\n",
        "#print(final_list)\n",
        "#Calculate the number of zeros\n",
        "numofzeros = len(arr) - len(final_list)\n",
        "#print(numofzeros)\n",
        "#Create a list of only zeros based on number of zeros\n",
        "list_zeros = [ 0 for nzero in range(numofzeros)]\n",
        "#print(list_zeros)\n",
        "#Extend the list without zeros\n",
        "final_list.extend(list_zeros)\n",
        "print(final_list)\n"
      ],
      "metadata": {
        "colab": {
          "base_uri": "https://localhost:8080/"
        },
        "id": "6QWsBUGiJTtA",
        "outputId": "3ace2cff-87c3-4aaa-b483-43432e2dcafb"
      },
      "execution_count": null,
      "outputs": [
        {
          "output_type": "stream",
          "name": "stdout",
          "text": [
            "[1, 8, 5]\n",
            "3\n",
            "[0, 0, 0]\n",
            "[1, 8, 5, 0, 0, 0]\n"
          ]
        }
      ]
    },
    {
      "cell_type": "markdown",
      "source": [
        "Given two sentences, return an array that has the words that appear in one sentence and not the other and an array with the words in common.\n",
        "\n"
      ],
      "metadata": {
        "id": "jwXsqXaBNJTs"
      }
    },
    {
      "cell_type": "code",
      "source": [
        "text1 = \"After one week of classes at Ironhack I am exhausted\"\n",
        "text2 = \"After 9 weeks of classes at Ironhack I will get drunk\"\n",
        "#First create sets of individual words\n",
        "set_1 = set(text1.split())\n",
        "print(set_1)\n",
        "set_2 = set(text2.split())\n",
        "print(set_2)"
      ],
      "metadata": {
        "colab": {
          "base_uri": "https://localhost:8080/"
        },
        "id": "XFwpNEiZNKy2",
        "outputId": "01bf2080-797a-4abd-a70b-ddcbf1e88816"
      },
      "execution_count": null,
      "outputs": [
        {
          "output_type": "stream",
          "name": "stdout",
          "text": [
            "{'exhausted', 'Ironhack', 'am', 'classes', 'at', 'of', 'I', 'one', 'week', 'After'}\n",
            "{'Ironhack', 'classes', 'at', 'of', 'I', 'weeks', 'will', '9', 'get', 'drunk', 'After'}\n"
          ]
        }
      ]
    },
    {
      "cell_type": "code",
      "source": [
        "#words in common using intersection method between sets\n",
        "set_common = set_1.intersection(set_2) \n",
        "print(set_common)"
      ],
      "metadata": {
        "colab": {
          "base_uri": "https://localhost:8080/"
        },
        "id": "ylRQKWegOin-",
        "outputId": "1162b993-d301-426e-84e4-8aa8499a16b7"
      },
      "execution_count": null,
      "outputs": [
        {
          "output_type": "stream",
          "name": "stdout",
          "text": [
            "{'Ironhack', 'at', 'I', 'of', 'classes', 'After'}\n"
          ]
        }
      ]
    },
    {
      "cell_type": "code",
      "source": [
        "#Different words between sets using symmetric difference\n",
        "set_diff = set_1.symmetric_difference(set_2)\n",
        "print(set_diff)"
      ],
      "metadata": {
        "colab": {
          "base_uri": "https://localhost:8080/"
        },
        "id": "wad8eXR5O4Pu",
        "outputId": "d0f03475-75dc-4f70-f957-dd30388f3af9"
      },
      "execution_count": null,
      "outputs": [
        {
          "output_type": "stream",
          "name": "stdout",
          "text": [
            "{'exhausted', 'am', 'weeks', 'one', 'will', 'week', '9', 'get', 'drunk'}\n"
          ]
        }
      ]
    },
    {
      "cell_type": "code",
      "source": [],
      "metadata": {
        "id": "XJgfZltOPFNc"
      },
      "execution_count": null,
      "outputs": []
    }
  ]
}