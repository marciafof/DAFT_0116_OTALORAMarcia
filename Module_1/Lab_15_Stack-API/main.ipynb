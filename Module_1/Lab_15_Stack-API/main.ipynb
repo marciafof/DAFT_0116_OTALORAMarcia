{
 "cells": [
  {
   "cell_type": "markdown",
   "metadata": {},
   "source": [
    "# StackAPI\n",
    "\n",
    "#### Import the necessary libraries here:"
   ]
  },
  {
   "cell_type": "code",
   "execution_count": 1,
   "metadata": {},
   "outputs": [
    {
     "name": "stdout",
     "output_type": "stream",
     "text": [
      "Collecting stackapi\n",
      "  Downloading StackAPI-0.2.0.tar.gz (5.6 kB)\n",
      "  Preparing metadata (setup.py): started\n",
      "  Preparing metadata (setup.py): finished with status 'done'\n",
      "Requirement already satisfied: requests in c:\\users\\marci\\.conda\\envs\\danalysis\\lib\\site-packages (from stackapi) (2.28.1)\n",
      "Requirement already satisfied: six in c:\\users\\marci\\.conda\\envs\\danalysis\\lib\\site-packages (from stackapi) (1.16.0)\n",
      "Requirement already satisfied: urllib3<1.27,>=1.21.1 in c:\\users\\marci\\.conda\\envs\\danalysis\\lib\\site-packages (from requests->stackapi) (1.26.14)\n",
      "Requirement already satisfied: certifi>=2017.4.17 in c:\\users\\marci\\.conda\\envs\\danalysis\\lib\\site-packages (from requests->stackapi) (2022.12.7)\n",
      "Requirement already satisfied: charset-normalizer<3,>=2 in c:\\users\\marci\\.conda\\envs\\danalysis\\lib\\site-packages (from requests->stackapi) (2.0.4)\n",
      "Requirement already satisfied: idna<4,>=2.5 in c:\\users\\marci\\.conda\\envs\\danalysis\\lib\\site-packages (from requests->stackapi) (3.4)\n",
      "Building wheels for collected packages: stackapi\n",
      "  Building wheel for stackapi (setup.py): started\n",
      "  Building wheel for stackapi (setup.py): finished with status 'done'\n",
      "  Created wheel for stackapi: filename=StackAPI-0.2.0-py3-none-any.whl size=5843 sha256=fa225e208b7ed7d01b1f29764be60f57e6520d9c3d4713a48d897c884f71d856\n",
      "  Stored in directory: c:\\users\\marci\\appdata\\local\\pip\\cache\\wheels\\0e\\bc\\2a\\074205b2ecb2d9be6f5c6050f86d6ace032f007afa95cb2c57\n",
      "Successfully built stackapi\n",
      "Installing collected packages: stackapi\n",
      "Successfully installed stackapi-0.2.0\n"
     ]
    }
   ],
   "source": [
    "#! pip install stackapi\n"
   ]
  },
  {
   "cell_type": "code",
   "execution_count": null,
   "metadata": {},
   "outputs": [],
   "source": []
  },
  {
   "cell_type": "code",
   "execution_count": 4,
   "metadata": {},
   "outputs": [],
   "source": [
    "from stackapi import StackAPI\n",
    "import datetime\n"
   ]
  },
  {
   "cell_type": "markdown",
   "metadata": {},
   "source": [
    "#### Question 1: Find the questions and answers of last month."
   ]
  },
  {
   "cell_type": "code",
   "execution_count": 3,
   "metadata": {},
   "outputs": [],
   "source": [
    "# your code here\n",
    "SITE = StackAPI('stackoverflow')"
   ]
  },
  {
   "cell_type": "code",
   "execution_count": 12,
   "metadata": {},
   "outputs": [
    {
     "name": "stdout",
     "output_type": "stream",
     "text": [
      "1669849200.0\n",
      "1672441200.0\n"
     ]
    }
   ],
   "source": [
    "# your code here\n",
    "#Get dates to EPOCH\n",
    "epochd1 = datetime.datetime(2022, 12, 1,0,0).timestamp()\n",
    "epochd2 = datetime.datetime(2022, 12, 31,0,0).timestamp()\n",
    "print(epochd1)\n",
    "print(epochd2)\n"
   ]
  },
  {
   "cell_type": "code",
   "execution_count": 14,
   "metadata": {},
   "outputs": [],
   "source": [
    "questions = SITE.fetch('questions', fromdate=int(epochd1), todate=int(epochd2))"
   ]
  },
  {
   "cell_type": "code",
   "execution_count": 30,
   "metadata": {},
   "outputs": [],
   "source": [
    "answers = SITE.fetch('answers', fromdate=int(epochd1), todate=int(epochd2))"
   ]
  },
  {
   "cell_type": "markdown",
   "metadata": {},
   "source": [
    "#### Question 2: Find the most voted question today with at least a score of 5 and tagged with 'python'. "
   ]
  },
  {
   "cell_type": "code",
   "execution_count": 50,
   "metadata": {},
   "outputs": [],
   "source": [
    "epochd1 = datetime.datetime(2023, 1, 26,0,0).timestamp()\n",
    "epochd2 = datetime.datetime(2023, 1, 26,23,0).timestamp()\n",
    "questionstoday = SITE.fetch('questions', fromdate=int(epochd1), todate=int(epochd2), tagged='python', sort='votes', min=5, filter=\"withbody\")"
   ]
  },
  {
   "cell_type": "code",
   "execution_count": 51,
   "metadata": {},
   "outputs": [
    {
     "data": {
      "text/plain": [
       "{'tags': ['python', 'python-3.x', 'logging', 'python-logging'],\n",
       " 'owner': {'reputation': 1548,\n",
       "  'user_id': 2179970,\n",
       "  'user_type': 'registered',\n",
       "  'profile_image': 'https://i.stack.imgur.com/v7PcJ.png?s=256&g=1',\n",
       "  'display_name': 'Zion',\n",
       "  'link': 'https://stackoverflow.com/users/2179970/zion'},\n",
       " 'is_answered': True,\n",
       " 'view_count': 74,\n",
       " 'answer_count': 2,\n",
       " 'score': 5,\n",
       " 'last_activity_date': 1674704436,\n",
       " 'creation_date': 1674691953,\n",
       " 'last_edit_date': 1674701837,\n",
       " 'question_id': 75241185,\n",
       " 'content_license': 'CC BY-SA 4.0',\n",
       " 'link': 'https://stackoverflow.com/questions/75241185/why-does-python-logging-throw-an-error-when-a-handler-name-starts-with-s',\n",
       " 'title': 'Why does Python logging throw an error when a handler name starts with `s`?',\n",
       " 'body': '<h2>The Problem</h2>\\n<p>When I run <code>main.py</code> below, it prints out <code>HELLO WORLD</code> (everything works). However, if I rename <code>console</code> in <code>LOGGING_CONFIG</code> to <code>s</code>, python throws this error: <code>AttributeError: \\'ConvertingDict\\' object has no attribute \\'handle\\'</code>. Why does changing a handler name cause this to happen and how can I fix it?</p>\\n<h2>Background</h2>\\n<p>I have an asyncio application that requires logging, but &quot;<a href=\"https://www.zopatista.com/python/2019/05/11/asyncio-logging/s\" rel=\"nofollow noreferrer\">the logging module uses blocking I/O when emitting records.</a>&quot; Python\\'s <code>logging.handlers.QueueHandler</code> was built for this and I\\'m trying to implement the <code>QueueHandler</code> with <code>dictConfig</code>. I used the links in the references section at the bottom to put <code>main.py</code> together.</p>\\n<h2>Code</h2>\\n<p>This is <code>main.py</code>. Note that the filename <code>main.py</code> is important because <code>main.QueueListenerHandler</code> references it in <code>LOGGING_CONFIG</code>.</p>\\n<pre class=\"lang-py prettyprint-override\"><code># main.py\\nimport logging\\nimport logging.config\\nimport logging.handlers\\nimport queue\\nimport atexit\\n\\n\\n# This function resolves issues when using `cfg://handlers.[name]` where\\n# QueueListenerHandler complains that `cfg://handlers.[name]` isn\\'t a handler.\\ndef _resolve_handlers(myhandlers):\\n    if not isinstance(myhandlers, logging.config.ConvertingList):\\n        return myhandlers\\n\\n    # Indexing the list performs the evaluation.\\n    return [myhandlers[i] for i in range(len(myhandlers))]\\n\\n\\nclass QueueListenerHandler(logging.handlers.QueueHandler):\\n    def __init__(\\n        self,\\n        handlers,\\n        respect_handler_level=False,\\n        auto_run=True,\\n        queue=queue.Queue(-1),\\n    ):\\n        super().__init__(queue)\\n        handlers = _resolve_handlers(handlers)\\n        self._listener = logging.handlers.QueueListener(\\n            self.queue, *handlers, respect_handler_level=respect_handler_level\\n        )\\n        if auto_run:\\n            self.start()\\n            atexit.register(self.stop)\\n\\n    def start(self):\\n        self._listener.start()\\n\\n    def stop(self):\\n        self._listener.stop()\\n\\n    def emit(self, record):\\n        return super().emit(record)\\n\\n\\nLOGGING_CONFIG = {\\n    &quot;version&quot;: 1,\\n    &quot;handlers&quot;: {\\n        &quot;console&quot;: {\\n            &quot;class&quot;: &quot;logging.StreamHandler&quot;,\\n        },\\n        &quot;queue_listener&quot;: {\\n            &quot;class&quot;: &quot;main.QueueListenerHandler&quot;,\\n            &quot;handlers&quot;: [\\n                &quot;cfg://handlers.console&quot;\\n            ],\\n        },\\n    },\\n    &quot;loggers&quot;: {\\n        &quot;server&quot;: {\\n            &quot;handlers&quot;: [&quot;queue_listener&quot;],\\n            &quot;level&quot;: &quot;DEBUG&quot;,\\n            &quot;propagate&quot;: False,\\n        },\\n    },\\n}\\n\\nif __name__ == &quot;__main__&quot;:\\n    logging.config.dictConfig(LOGGING_CONFIG)\\n    logger = logging.getLogger(&quot;server&quot;)\\n    logger.debug(&quot;HELLO WORLD&quot;)\\n</code></pre>\\n<p>If I modify <code>LOGGING_CONFIG[&quot;handlers&quot;]</code> to this:</p>\\n<pre class=\"lang-json prettyprint-override\"><code>&quot;handlers&quot;: {\\n        &quot;s&quot;: {\\n            &quot;class&quot;: &quot;logging.StreamHandler&quot;,\\n        },\\n        &quot;queue_listener&quot;: {\\n            &quot;class&quot;: &quot;main.QueueListenerHandler&quot;,\\n            &quot;handlers&quot;: [\\n                &quot;cfg://handlers.s&quot;\\n            ],\\n        },\\n    },\\n</code></pre>\\n<p>python will throw this error:</p>\\n<pre class=\"lang-bash prettyprint-override\"><code>sh-3.2$ pyenv exec python main.py \\nException in thread Thread-1 (_monitor):\\nTraceback (most recent call last):\\n  File &quot;/Users/zion.perez/.pyenv/versions/3.10.6/lib/python3.10/threading.py&quot;, line 1016, in _bootstrap_inner\\n    self.run()\\n  File &quot;/Users/zion.perez/.pyenv/versions/3.10.6/lib/python3.10/threading.py&quot;, line 953, in run\\n    self._target(*self._args, **self._kwargs)\\n  File &quot;/Users/zion.perez/.pyenv/versions/3.10.6/lib/python3.10/logging/handlers.py&quot;, line 1548, in _monitor\\n    self.handle(record)\\n  File &quot;/Users/zion.perez/.pyenv/versions/3.10.6/lib/python3.10/logging/handlers.py&quot;, line 1529, in handle\\n    handler.handle(record)\\nAttributeError: \\'ConvertingDict\\' object has no attribute \\'handle\\'\\n</code></pre>\\n<h2>Notes</h2>\\n<ul>\\n<li>Interestingly only <code>s</code> causes this issue. Any other letter works. If <code>s</code> is the first letter of the handler name (e.g. <code>sconsole</code>, <code>shandler</code>), Python will throw the exception above.</li>\\n<li>Tested and confirmed the same behavior on MacOS with Python 3.11.1, 3.10.6, 3.9.16</li>\\n<li>Tested on Ubuntu 22.04 with Python 3.10.6 and 3.11.0rc1</li>\\n<li>Regarding the <code>_resolve_handlers</code> func, if the handler is <code>console</code> (does not start with <code>s</code>) the func returns <code>[&lt;StreamHandler &lt;stderr&gt; (NOTSET)&gt;]</code> and everything works. If the handler is <code>sconsole</code> (starts with <code>s</code>), the func returns <code>[{\\'class\\': \\'logging.StreamHandler\\'}]</code>. For more background on <code>_resolve_handlers</code>, <a href=\"https://rob-blackbourn.medium.com/how-to-use-python-logging-queuehandler-with-dictconfig-1e8b1284e27a\" rel=\"nofollow noreferrer\">this article</a> explains why this function is needed.</li>\\n</ul>\\n<h2>References</h2>\\n<ul>\\n<li><a href=\"https://www.zopatista.com/python/2019/05/11/asyncio-logging/s\" rel=\"nofollow noreferrer\">https://www.zopatista.com/python/2019/05/11/asyncio-logging/s</a></li>\\n<li><a href=\"https://rob-blackbourn.medium.com/how-to-use-python-logging-queuehandler-with-dictconfig-1e8b1284e27a\" rel=\"nofollow noreferrer\">https://rob-blackbourn.medium.com/how-to-use-python-logging-queuehandler-with-dictconfig-1e8b1284e27a</a></li>\\n</ul>\\n'}"
      ]
     },
     "execution_count": 51,
     "metadata": {},
     "output_type": "execute_result"
    }
   ],
   "source": [
    "questionstoday[\"items\"][0]"
   ]
  },
  {
   "cell_type": "markdown",
   "metadata": {},
   "source": [
    "#### Question 3: Find the answers with id 6784 and 6473."
   ]
  },
  {
   "cell_type": "code",
   "execution_count": 43,
   "metadata": {},
   "outputs": [],
   "source": [
    "# your code here\n",
    "answersid = SITE.fetch('answers/{ids}', ids=[6784, 6473])"
   ]
  },
  {
   "cell_type": "code",
   "execution_count": 40,
   "metadata": {},
   "outputs": [
    {
     "name": "stdout",
     "output_type": "stream",
     "text": [
      "1\n"
     ]
    }
   ],
   "source": [
    "\n",
    "print(len(answersid[\"items\"]))"
   ]
  },
  {
   "cell_type": "code",
   "execution_count": 44,
   "metadata": {},
   "outputs": [
    {
     "data": {
      "text/plain": [
       "[{'owner': {'reputation': 30551,\n",
       "   'user_id': 758,\n",
       "   'user_type': 'registered',\n",
       "   'accept_rate': 77,\n",
       "   'profile_image': 'https://www.gravatar.com/avatar/0b4adc19284ed0751844d610555dc6b2?s=256&d=identicon&r=PG',\n",
       "   'display_name': 'Mark Renouf',\n",
       "   'link': 'https://stackoverflow.com/users/758/mark-renouf'},\n",
       "  'is_accepted': False,\n",
       "  'score': 0,\n",
       "  'last_activity_date': 1218291583,\n",
       "  'creation_date': 1218291583,\n",
       "  'answer_id': 6784,\n",
       "  'question_id': 6778,\n",
       "  'content_license': 'CC BY-SA 2.5'}]"
      ]
     },
     "execution_count": 44,
     "metadata": {},
     "output_type": "execute_result"
    }
   ],
   "source": [
    "answersid[\"items\"]"
   ]
  },
  {
   "cell_type": "code",
   "execution_count": 45,
   "metadata": {},
   "outputs": [],
   "source": [
    "#CHECK IF ANSWER DOES NOT EXIST\n",
    "answersiduniq = SITE.fetch('answers/6473')"
   ]
  },
  {
   "cell_type": "code",
   "execution_count": 46,
   "metadata": {},
   "outputs": [
    {
     "name": "stdout",
     "output_type": "stream",
     "text": [
      "{'backoff': 0, 'has_more': False, 'page': 1, 'quota_max': 300, 'quota_remaining': 287, 'total': 0, 'items': []}\n"
     ]
    }
   ],
   "source": [
    "print(answersiduniq)\n"
   ]
  },
  {
   "cell_type": "code",
   "execution_count": null,
   "metadata": {},
   "outputs": [],
   "source": []
  }
 ],
 "metadata": {
  "kernelspec": {
   "display_name": "danalysis",
   "language": "python",
   "name": "python3"
  },
  "language_info": {
   "codemirror_mode": {
    "name": "ipython",
    "version": 3
   },
   "file_extension": ".py",
   "mimetype": "text/x-python",
   "name": "python",
   "nbconvert_exporter": "python",
   "pygments_lexer": "ipython3",
   "version": "3.10.9"
  },
  "vscode": {
   "interpreter": {
    "hash": "3480918d07d13c46f66614f2dce5fe9c8f95e8acd525651fc8ebd709fe83f169"
   }
  }
 },
 "nbformat": 4,
 "nbformat_minor": 2
}
