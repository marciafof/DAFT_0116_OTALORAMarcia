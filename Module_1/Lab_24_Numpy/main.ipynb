{
 "cells": [
  {
   "cell_type": "markdown",
   "metadata": {},
   "source": [
    "# Intrduction to NumPy\n",
    "\n",
    "\n",
    "#### 1. Import NumPy under the name np."
   ]
  },
  {
   "cell_type": "code",
   "execution_count": 2,
   "metadata": {},
   "outputs": [],
   "source": [
    "import numpy as np"
   ]
  },
  {
   "cell_type": "markdown",
   "metadata": {},
   "source": [
    "#### 2. Print your NumPy version."
   ]
  },
  {
   "cell_type": "code",
   "execution_count": 3,
   "metadata": {},
   "outputs": [
    {
     "name": "stdout",
     "output_type": "stream",
     "text": [
      "1.23.5\n"
     ]
    }
   ],
   "source": [
    "print(np.__version__)"
   ]
  },
  {
   "cell_type": "markdown",
   "metadata": {},
   "source": [
    "#### 3. Generate a 2x3x5 3-dimensional array with random values. Assign the array to variable *a*.\n",
    "**Challenge**: there are at least three easy ways that use numpy to generate random arrays. How many ways can you find?"
   ]
  },
  {
   "cell_type": "code",
   "execution_count": 5,
   "metadata": {},
   "outputs": [
    {
     "name": "stdout",
     "output_type": "stream",
     "text": [
      "(2, 3, 5)\n"
     ]
    }
   ],
   "source": [
    "# Method 1\n",
    "a =  np.random.randint(10,90,(2,3,5)) # random numpy array of shape (4,5)\n",
    "\n",
    "print(a.shape)"
   ]
  },
  {
   "cell_type": "code",
   "execution_count": 8,
   "metadata": {},
   "outputs": [
    {
     "name": "stdout",
     "output_type": "stream",
     "text": [
      "(2, 3, 5)\n"
     ]
    }
   ],
   "source": [
    "# Method 2\n",
    "a = np.random.randn(2,3,5)\n",
    "print(a.shape)"
   ]
  },
  {
   "cell_type": "code",
   "execution_count": 9,
   "metadata": {},
   "outputs": [
    {
     "name": "stdout",
     "output_type": "stream",
     "text": [
      "(2, 3, 5)\n"
     ]
    }
   ],
   "source": [
    "# Method 3\n",
    "a = np.random.rand(2,3,5)\n",
    "print(a.shape)"
   ]
  },
  {
   "cell_type": "markdown",
   "metadata": {},
   "source": [
    "#### 4. Print *a*.\n"
   ]
  },
  {
   "cell_type": "code",
   "execution_count": 10,
   "metadata": {},
   "outputs": [
    {
     "name": "stdout",
     "output_type": "stream",
     "text": [
      "[[[0.12423493 0.33007054 0.12690177 0.47661309 0.80979352]\n",
      "  [0.19545267 0.28594212 0.09999177 0.92721991 0.92426209]\n",
      "  [0.0123477  0.27514944 0.11817712 0.46592904 0.75083052]]\n",
      "\n",
      " [[0.01829076 0.51025015 0.13557564 0.56587495 0.96480563]\n",
      "  [0.10647177 0.77148566 0.88442725 0.39530676 0.03748185]\n",
      "  [0.31765546 0.0476422  0.82363349 0.73764808 0.40789917]]]\n"
     ]
    }
   ],
   "source": [
    "# your code here\n",
    "print(a)"
   ]
  },
  {
   "cell_type": "markdown",
   "metadata": {},
   "source": [
    "#### 5. Create a 5x2x3 3-dimensional array with all values equaling 1. Assign the array to variable *b*."
   ]
  },
  {
   "cell_type": "code",
   "execution_count": 12,
   "metadata": {},
   "outputs": [
    {
     "name": "stdout",
     "output_type": "stream",
     "text": [
      "[[[1. 1. 1.]\n",
      "  [1. 1. 1.]]\n",
      "\n",
      " [[1. 1. 1.]\n",
      "  [1. 1. 1.]]\n",
      "\n",
      " [[1. 1. 1.]\n",
      "  [1. 1. 1.]]\n",
      "\n",
      " [[1. 1. 1.]\n",
      "  [1. 1. 1.]]\n",
      "\n",
      " [[1. 1. 1.]\n",
      "  [1. 1. 1.]]]\n"
     ]
    }
   ],
   "source": [
    "# your code here\n",
    "b = np.ones(shape=(5,2,3))\n"
   ]
  },
  {
   "cell_type": "markdown",
   "metadata": {},
   "source": [
    "#### 6. Print *b*.\n"
   ]
  },
  {
   "cell_type": "code",
   "execution_count": null,
   "metadata": {},
   "outputs": [],
   "source": [
    "# your code here\n",
    "print(b)"
   ]
  },
  {
   "cell_type": "markdown",
   "metadata": {},
   "source": [
    "#### 7. Do *a* and *b* have the same size? How do you prove that in Python code?"
   ]
  },
  {
   "attachments": {},
   "cell_type": "markdown",
   "metadata": {},
   "source": [
    "They do not have the same size because the shape (2 i,3 j,5 k) is not the same as the shape of b (5 i,2 j, 3k)"
   ]
  },
  {
   "cell_type": "code",
   "execution_count": 13,
   "metadata": {},
   "outputs": [
    {
     "name": "stdout",
     "output_type": "stream",
     "text": [
      "Shape of a = (2, 3, 5)\n",
      "Shape of b = (5, 2, 3)\n"
     ]
    }
   ],
   "source": [
    "# your code here\n",
    "print(f\"Shape of a = {a.shape}\")\n",
    "print(f\"Shape of b = {b.shape}\")\n"
   ]
  },
  {
   "cell_type": "markdown",
   "metadata": {},
   "source": [
    "#### 8. Are you able to add *a* and *b*? Why or why not?\n"
   ]
  },
  {
   "attachments": {},
   "cell_type": "markdown",
   "metadata": {},
   "source": [
    "In order to add a and b, the dimensions of the matrix a should be equal to the matrix b dimensions. The order of both matrices should be equal\n",
    "i.e. $ A+B = [a_{ij}] + [b_{ij}] = [a_{ij} + b_{ij}]$"
   ]
  },
  {
   "cell_type": "code",
   "execution_count": 14,
   "metadata": {},
   "outputs": [
    {
     "ename": "ValueError",
     "evalue": "operands could not be broadcast together with shapes (2,3,5) (5,2,3) ",
     "output_type": "error",
     "traceback": [
      "\u001b[1;31m---------------------------------------------------------------------------\u001b[0m",
      "\u001b[1;31mValueError\u001b[0m                                Traceback (most recent call last)",
      "\u001b[1;32m~\\AppData\\Local\\Temp\\ipykernel_13840\\3739702805.py\u001b[0m in \u001b[0;36m<module>\u001b[1;34m\u001b[0m\n\u001b[0;32m      1\u001b[0m \u001b[1;31m# your answer here\u001b[0m\u001b[1;33m\u001b[0m\u001b[1;33m\u001b[0m\u001b[0m\n\u001b[1;32m----> 2\u001b[1;33m \u001b[0ma\u001b[0m \u001b[1;33m+\u001b[0m \u001b[0mb\u001b[0m\u001b[1;33m\u001b[0m\u001b[1;33m\u001b[0m\u001b[0m\n\u001b[0m",
      "\u001b[1;31mValueError\u001b[0m: operands could not be broadcast together with shapes (2,3,5) (5,2,3) "
     ]
    }
   ],
   "source": [
    "# your answer here\n",
    "a + b"
   ]
  },
  {
   "cell_type": "markdown",
   "metadata": {},
   "source": [
    "#### 9. Transpose *b* so that it has the same structure of *a* (i.e. become a 2x3x5 array). Assign the transposed array to variable *c*."
   ]
  },
  {
   "cell_type": "code",
   "execution_count": 16,
   "metadata": {},
   "outputs": [
    {
     "name": "stdout",
     "output_type": "stream",
     "text": [
      "(2, 3, 5)\n"
     ]
    }
   ],
   "source": [
    "# your code here\n",
    "c = b.reshape(2,3,5)\n",
    "print(c.shape)"
   ]
  },
  {
   "cell_type": "markdown",
   "metadata": {},
   "source": [
    "#### 10. Try to add *a* and *c*. Now it should work. Assign the sum to variable *d*. But why does it work now?"
   ]
  },
  {
   "attachments": {},
   "cell_type": "markdown",
   "metadata": {},
   "source": [
    "It works because the order of matrices are the same ( same number of rows, columns)"
   ]
  },
  {
   "cell_type": "code",
   "execution_count": 17,
   "metadata": {},
   "outputs": [],
   "source": [
    "# your code/answer here\n",
    "d = a + c"
   ]
  },
  {
   "cell_type": "markdown",
   "metadata": {},
   "source": [
    "#### 11. Print *a* and *d*. Notice the difference and relation of the two array in terms of the values? Explain."
   ]
  },
  {
   "cell_type": "code",
   "execution_count": 18,
   "metadata": {},
   "outputs": [
    {
     "name": "stdout",
     "output_type": "stream",
     "text": [
      "[[[0.12423493 0.33007054 0.12690177 0.47661309 0.80979352]\n",
      "  [0.19545267 0.28594212 0.09999177 0.92721991 0.92426209]\n",
      "  [0.0123477  0.27514944 0.11817712 0.46592904 0.75083052]]\n",
      "\n",
      " [[0.01829076 0.51025015 0.13557564 0.56587495 0.96480563]\n",
      "  [0.10647177 0.77148566 0.88442725 0.39530676 0.03748185]\n",
      "  [0.31765546 0.0476422  0.82363349 0.73764808 0.40789917]]]\n"
     ]
    }
   ],
   "source": [
    "# your code/answer here\n",
    "print(a)"
   ]
  },
  {
   "attachments": {},
   "cell_type": "markdown",
   "metadata": {},
   "source": [
    "The shape of a is (2,3,5) which means that it is an array (tensor) composed of 2 \"layers\" of matrices composed of 3 rows and 5 columns"
   ]
  },
  {
   "cell_type": "code",
   "execution_count": 20,
   "metadata": {},
   "outputs": [
    {
     "name": "stdout",
     "output_type": "stream",
     "text": [
      "[[[1. 1. 1.]\n",
      "  [1. 1. 1.]]\n",
      "\n",
      " [[1. 1. 1.]\n",
      "  [1. 1. 1.]]\n",
      "\n",
      " [[1. 1. 1.]\n",
      "  [1. 1. 1.]]\n",
      "\n",
      " [[1. 1. 1.]\n",
      "  [1. 1. 1.]]\n",
      "\n",
      " [[1. 1. 1.]\n",
      "  [1. 1. 1.]]]\n"
     ]
    }
   ],
   "source": [
    "print(b)"
   ]
  },
  {
   "attachments": {},
   "cell_type": "markdown",
   "metadata": {},
   "source": [
    "The shape of a is (5,2,3) which means that it is an array (tensor) composed of 5 \"layers\" of matrices composed of 2 rows and 3 columns"
   ]
  },
  {
   "cell_type": "markdown",
   "metadata": {},
   "source": [
    "#### 12. Multiply *a* and *c*. Assign the result to *e*."
   ]
  },
  {
   "cell_type": "code",
   "execution_count": 22,
   "metadata": {},
   "outputs": [
    {
     "name": "stdout",
     "output_type": "stream",
     "text": [
      "(2, 3, 5)\n"
     ]
    }
   ],
   "source": [
    "# your code here\n",
    "e = np.multiply(a,c)\n",
    "print(e.shape)"
   ]
  },
  {
   "cell_type": "markdown",
   "metadata": {},
   "source": [
    "#### 13. Does *e* equal to *a*? Why or why not?\n"
   ]
  },
  {
   "cell_type": "code",
   "execution_count": 23,
   "metadata": {},
   "outputs": [
    {
     "name": "stdout",
     "output_type": "stream",
     "text": [
      "[[[0.12423493 0.33007054 0.12690177 0.47661309 0.80979352]\n",
      "  [0.19545267 0.28594212 0.09999177 0.92721991 0.92426209]\n",
      "  [0.0123477  0.27514944 0.11817712 0.46592904 0.75083052]]\n",
      "\n",
      " [[0.01829076 0.51025015 0.13557564 0.56587495 0.96480563]\n",
      "  [0.10647177 0.77148566 0.88442725 0.39530676 0.03748185]\n",
      "  [0.31765546 0.0476422  0.82363349 0.73764808 0.40789917]]]\n",
      "[[[0.12423493 0.33007054 0.12690177 0.47661309 0.80979352]\n",
      "  [0.19545267 0.28594212 0.09999177 0.92721991 0.92426209]\n",
      "  [0.0123477  0.27514944 0.11817712 0.46592904 0.75083052]]\n",
      "\n",
      " [[0.01829076 0.51025015 0.13557564 0.56587495 0.96480563]\n",
      "  [0.10647177 0.77148566 0.88442725 0.39530676 0.03748185]\n",
      "  [0.31765546 0.0476422  0.82363349 0.73764808 0.40789917]]]\n"
     ]
    }
   ],
   "source": [
    "# your code/answer here\n",
    "print(a)\n",
    "print(e)"
   ]
  },
  {
   "attachments": {},
   "cell_type": "markdown",
   "metadata": {},
   "source": [
    "$e$ is the same as $a$ because $c$ is composed of only values = 1"
   ]
  },
  {
   "cell_type": "markdown",
   "metadata": {},
   "source": [
    "#### 14. Identify the max, min, and mean values in *d*. Assign those values to variables *d_max*, *d_min* and *d_mean*."
   ]
  },
  {
   "cell_type": "code",
   "execution_count": 53,
   "metadata": {},
   "outputs": [
    {
     "name": "stdout",
     "output_type": "stream",
     "text": [
      "1.964805629485578\n",
      "1.0123477003862829\n",
      "1.4215788345301352\n"
     ]
    }
   ],
   "source": [
    "# your code here\n",
    "d_max = np.max(d); print(d_max)\n",
    "# your code here\n",
    "d_min = np.min(d); print(d_min)\n",
    "# your code here\n",
    "d_mean = np.mean(d); print(d_mean)"
   ]
  },
  {
   "cell_type": "markdown",
   "metadata": {},
   "source": [
    "#### 15. Now we want to label the values in *d*. First create an empty array *f* with the same shape (i.e. 2x3x5) as *d* using `np.empty`.\n"
   ]
  },
  {
   "cell_type": "code",
   "execution_count": 48,
   "metadata": {},
   "outputs": [
    {
     "name": "stdout",
     "output_type": "stream",
     "text": [
      "[[[1.12423493 1.33007054 1.12690177 1.47661309 1.80979352]\n",
      "  [1.19545267 1.28594212 1.09999177 1.92721991 1.92426209]\n",
      "  [1.0123477  1.27514944 1.11817712 1.46592904 1.75083052]]\n",
      "\n",
      " [[1.01829076 1.51025015 1.13557564 1.56587495 1.96480563]\n",
      "  [1.10647177 1.77148566 1.88442725 1.39530676 1.03748185]\n",
      "  [1.31765546 1.0476422  1.82363349 1.73764808 1.40789917]]]\n",
      "\n",
      "\n",
      "[[[1.12423493 1.33007054 1.12690177 1.47661309 1.80979352]\n",
      "  [1.19545267 1.28594212 1.09999177 1.92721991 1.92426209]\n",
      "  [1.0123477  1.27514944 1.11817712 1.46592904 1.75083052]]\n",
      "\n",
      " [[1.01829076 1.51025015 1.13557564 1.56587495 1.96480563]\n",
      "  [1.10647177 1.77148566 1.88442725 1.39530676 1.03748185]\n",
      "  [1.31765546 1.0476422  1.82363349 1.73764808 1.40789917]]]\n"
     ]
    }
   ],
   "source": [
    "# your code here\n",
    "f = np.empty(shape=(2,3,5))\n",
    "print(f)\n",
    "print(\"\\n\")\n",
    "print(d)"
   ]
  },
  {
   "cell_type": "markdown",
   "metadata": {},
   "source": [
    "#### 16. Populate the values in *f*. \n",
    "\n",
    "For each value in *d*, if it's larger than *d_min* but smaller than *d_mean*, assign 25 to the corresponding value in *f*. If a value in *d* is larger than *d_mean* but smaller than *d_max*, assign 75 to the corresponding value in *f*. If a value equals to *d_mean*, assign 50 to the corresponding value in *f*. Assign 0 to the corresponding value(s) in *f* for *d_min* in *d*. Assign 100 to the corresponding value(s) in *f* for *d_max* in *d*. In the end, f should have only the following values: 0, 25, 50, 75, and 100.\n",
    "\n",
    "**Note**: you don't have to use Numpy in this question."
   ]
  },
  {
   "cell_type": "code",
   "execution_count": 50,
   "metadata": {},
   "outputs": [],
   "source": [
    "f[np.where((d_min<d) & (d<d_mean))] = 25\n",
    "f[np.where((d_mean<d) & (d<d_max))] = 75\n",
    "f[np.where(d==d_mean)] = 50\n",
    "f[np.where(d==d_min)] = 0\n",
    "f[np.where(d==d_max)] = 100"
   ]
  },
  {
   "cell_type": "code",
   "execution_count": 51,
   "metadata": {},
   "outputs": [
    {
     "name": "stdout",
     "output_type": "stream",
     "text": [
      "[[[ 25.  25.  25.  75.  75.]\n",
      "  [ 25.  25.  25.  75.  75.]\n",
      "  [  0.  25.  25.  75.  75.]]\n",
      "\n",
      " [[ 25.  75.  25.  75. 100.]\n",
      "  [ 25.  75.  75.  25.  25.]\n",
      "  [ 25.  25.  75.  75.  25.]]]\n"
     ]
    }
   ],
   "source": [
    "print(f)"
   ]
  },
  {
   "cell_type": "code",
   "execution_count": 52,
   "metadata": {},
   "outputs": [
    {
     "name": "stdout",
     "output_type": "stream",
     "text": [
      "[[[1.12423493 1.33007054 1.12690177 1.47661309 1.80979352]\n",
      "  [1.19545267 1.28594212 1.09999177 1.92721991 1.92426209]\n",
      "  [1.0123477  1.27514944 1.11817712 1.46592904 1.75083052]]\n",
      "\n",
      " [[1.01829076 1.51025015 1.13557564 1.56587495 1.96480563]\n",
      "  [1.10647177 1.77148566 1.88442725 1.39530676 1.03748185]\n",
      "  [1.31765546 1.0476422  1.82363349 1.73764808 1.40789917]]]\n"
     ]
    }
   ],
   "source": [
    "print(d)"
   ]
  },
  {
   "cell_type": "markdown",
   "metadata": {},
   "source": [
    "#### 17. Print *d* and *f*. Do you have your expected *f*?\n",
    "For instance, if your *d* is:\n",
    "```python\n",
    "[[[1.85836099, 1.67064465, 1.62576044, 1.40243961, 1.88454931],\n",
    "[1.75354326, 1.69403643, 1.36729252, 1.61415071, 1.12104981],\n",
    "[1.72201435, 1.1862918 , 1.87078449, 1.7726778 , 1.88180042]],\n",
    "[[1.44747908, 1.31673383, 1.02000951, 1.52218947, 1.97066381],\n",
    "[1.79129243, 1.74983003, 1.96028037, 1.85166831, 1.65450881],\n",
    "[1.18068344, 1.9587381 , 1.00656599, 1.93402165, 1.73514584]]]\n",
    "```\n",
    "Your *f* should be:\n",
    "```python\n",
    "[[[ 75.,  75.,  75.,  25.,  75.],\n",
    "[ 75.,  75.,  25.,  25.,  25.],\n",
    "[ 75.,  25.,  75.,  75.,  75.]],\n",
    "[[ 25.,  25.,  25.,  25., 100.],\n",
    "[ 75.,  75.,  75.,  75.,  75.],\n",
    "[ 25.,  75.,   0.,  75.,  75.]]]\n",
    "```"
   ]
  },
  {
   "cell_type": "code",
   "execution_count": 54,
   "metadata": {},
   "outputs": [
    {
     "name": "stdout",
     "output_type": "stream",
     "text": [
      "[[[ 25.  25.  25.  75.  75.]\n",
      "  [ 25.  25.  25.  75.  75.]\n",
      "  [  0.  25.  25.  75.  75.]]\n",
      "\n",
      " [[ 25.  75.  25.  75. 100.]\n",
      "  [ 25.  75.  75.  25.  25.]\n",
      "  [ 25.  25.  75.  75.  25.]]]\n",
      "[[[1.12423493 1.33007054 1.12690177 1.47661309 1.80979352]\n",
      "  [1.19545267 1.28594212 1.09999177 1.92721991 1.92426209]\n",
      "  [1.0123477  1.27514944 1.11817712 1.46592904 1.75083052]]\n",
      "\n",
      " [[1.01829076 1.51025015 1.13557564 1.56587495 1.96480563]\n",
      "  [1.10647177 1.77148566 1.88442725 1.39530676 1.03748185]\n",
      "  [1.31765546 1.0476422  1.82363349 1.73764808 1.40789917]]]\n"
     ]
    }
   ],
   "source": [
    "# your code here\n",
    "print(f)\n",
    "print(d)"
   ]
  },
  {
   "cell_type": "markdown",
   "metadata": {},
   "source": [
    "#### 18. Bonus question: instead of using numbers (i.e. 0, 25, 50, 75, and 100), use string values  (\"A\", \"B\", \"C\", \"D\", and \"E\") to label the array elements. For the example above, the expected result is:\n",
    "\n",
    "```python\n",
    "[[[ 'D',  'D',  'D',  'B',  'D'],\n",
    "[ 'D',  'D',  'B',  'B',  'B'],\n",
    "[ 'D',  'B',  'D',  'D',  'D']],\n",
    "[[ 'B',  'B',  'B',  'B',  'E'],\n",
    "[ 'D',  'D',  'D',  'D',  'D'],\n",
    "[ 'B',  'D',   'A',  'D', 'D']]]\n",
    "```\n",
    "**Note**: you don't have to use Numpy in this question."
   ]
  },
  {
   "cell_type": "code",
   "execution_count": 59,
   "metadata": {},
   "outputs": [
    {
     "name": "stdout",
     "output_type": "stream",
     "text": [
      "[[['1.124234934629539' '1.3300705423115216' '1.1269017706181876'\n",
      "   '1.476613087440671' '1.8097935241739453']\n",
      "  ['1.195452672489011' '1.285942115555105' '1.0999917650171476'\n",
      "   '1.9272199059319117' '1.9242620879948182']\n",
      "  ['1.0123477003862829' '1.2751494350903014' '1.118177115467863'\n",
      "   '1.4659290390991337' '1.7508305207096935']]\n",
      "\n",
      " [['1.0182907613890015' '1.5102501503275811' '1.1355756374701405'\n",
      "   '1.5658749502630172' '1.964805629485578']\n",
      "  ['1.1064717685256205' '1.7714856579416562' '1.8844272544970075'\n",
      "   '1.395306758009513' '1.0374818539377402']\n",
      "  ['1.3176554618817429' '1.0476421974869268' '1.8236334903979954'\n",
      "   '1.7376480784931594' '1.407899168882247']]]\n",
      "[[[1.12423493 1.33007054 1.12690177 1.47661309 1.80979352]\n",
      "  [1.19545267 1.28594212 1.09999177 1.92721991 1.92426209]\n",
      "  [1.0123477  1.27514944 1.11817712 1.46592904 1.75083052]]\n",
      "\n",
      " [[1.01829076 1.51025015 1.13557564 1.56587495 1.96480563]\n",
      "  [1.10647177 1.77148566 1.88442725 1.39530676 1.03748185]\n",
      "  [1.31765546 1.0476422  1.82363349 1.73764808 1.40789917]]]\n"
     ]
    }
   ],
   "source": [
    "# your code here\n",
    "g = np.empty(shape=(2,3,5))\n",
    "g =g.astype('U256')\n",
    "print(g)\n",
    "print(d)"
   ]
  },
  {
   "cell_type": "code",
   "execution_count": 60,
   "metadata": {},
   "outputs": [],
   "source": [
    "g[np.where((d_min<d) & (d<d_mean))] = \"B\"\n",
    "g[np.where((d_mean<d) & (d<d_max))] = \"C\"\n",
    "g[np.where(d==d_mean)] = \"D\"\n",
    "g[np.where(d==d_min)] = \"A\"\n",
    "g[np.where(d==d_max)] = \"E\""
   ]
  },
  {
   "cell_type": "code",
   "execution_count": 61,
   "metadata": {},
   "outputs": [
    {
     "name": "stdout",
     "output_type": "stream",
     "text": [
      "[[['B' 'B' 'B' 'C' 'C']\n",
      "  ['B' 'B' 'B' 'C' 'C']\n",
      "  ['A' 'B' 'B' 'C' 'C']]\n",
      "\n",
      " [['B' 'C' 'B' 'C' 'E']\n",
      "  ['B' 'C' 'C' 'B' 'B']\n",
      "  ['B' 'B' 'C' 'C' 'B']]]\n"
     ]
    }
   ],
   "source": [
    "print(g)"
   ]
  },
  {
   "cell_type": "code",
   "execution_count": null,
   "metadata": {},
   "outputs": [],
   "source": []
  }
 ],
 "metadata": {
  "kernelspec": {
   "display_name": "danalysis",
   "language": "python",
   "name": "python3"
  },
  "language_info": {
   "codemirror_mode": {
    "name": "ipython",
    "version": 3
   },
   "file_extension": ".py",
   "mimetype": "text/x-python",
   "name": "python",
   "nbconvert_exporter": "python",
   "pygments_lexer": "ipython3",
   "version": "3.10.9"
  },
  "vscode": {
   "interpreter": {
    "hash": "3480918d07d13c46f66614f2dce5fe9c8f95e8acd525651fc8ebd709fe83f169"
   }
  }
 },
 "nbformat": 4,
 "nbformat_minor": 2
}
