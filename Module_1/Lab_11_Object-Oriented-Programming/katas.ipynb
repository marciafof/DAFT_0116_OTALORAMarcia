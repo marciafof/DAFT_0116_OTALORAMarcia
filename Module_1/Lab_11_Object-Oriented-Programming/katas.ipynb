{
 "cells": [
  {
   "attachments": {},
   "cell_type": "markdown",
   "metadata": {},
   "source": [
    "### Lab | Object-Oriented Programming\n"
   ]
  },
  {
   "attachments": {},
   "cell_type": "markdown",
   "metadata": {},
   "source": [
    "#### Remove All The Marked Elements of a List\n",
    "Define a method/function that removes from a given array of integers all the values contained in a second array.\n",
    "\n",
    "[1, 1, 2, 3, 1, 2, 3, 4], [1, 3] -> [2, 2, 4]"
   ]
  },
  {
   "cell_type": "code",
   "execution_count": 5,
   "metadata": {},
   "outputs": [],
   "source": [
    "class List:\n",
    "    def remove_(self, integer_list, values_list):\n",
    "        #your code here\n",
    "        lst=[]\n",
    "        for num in integer_list:\n",
    "            if num not in values_list:\n",
    "                lst.append(num)\n",
    "        return lst\n",
    "#lst = [ num for num in integer_list if num not in values_list]"
   ]
  },
  {
   "cell_type": "code",
   "execution_count": 6,
   "metadata": {},
   "outputs": [
    {
     "data": {
      "text/plain": [
       "[2, 2, 4]"
      ]
     },
     "execution_count": 6,
     "metadata": {},
     "output_type": "execute_result"
    }
   ],
   "source": [
    "l = List()\n",
    "integer_list =  [1, 1, 2 ,3 ,1 ,2 ,3 ,4]\n",
    "values_list = [1, 3]\n",
    "l.remove_(integer_list, values_list)"
   ]
  },
  {
   "attachments": {},
   "cell_type": "markdown",
   "metadata": {},
   "source": [
    "### Ordered Count of Characters\n",
    "Count the number of occurrences of each character and return it as a (list of tuples) in order of appearance. For empty output return (an empty list).\n",
    "\n",
    "Consult the solution set-up for the exact data structure implementation depending on your language."
   ]
  },
  {
   "cell_type": "code",
   "execution_count": 18,
   "metadata": {},
   "outputs": [],
   "source": [
    "def ordered_count(inp):\n",
    "    lst = []\n",
    "    lst_doubles = []\n",
    "    for i,car in enumerate(inp):\n",
    "        if i == 0:\n",
    "            lst.append((car, inp.count(car)))\n",
    "            lst_doubles.append(car)\n",
    "        else:\n",
    "            if car in lst_doubles:\n",
    "                continue\n",
    "            else:\n",
    "                lst.append((car, inp.count(car)))\n",
    "                lst_doubles.append(car)\n",
    "    return lst"
   ]
  },
  {
   "cell_type": "code",
   "execution_count": 19,
   "metadata": {},
   "outputs": [
    {
     "data": {
      "text/plain": [
       "[('a', 5), ('b', 2), ('r', 2), ('c', 1), ('d', 1)]"
      ]
     },
     "execution_count": 19,
     "metadata": {},
     "output_type": "execute_result"
    }
   ],
   "source": [
    "ordered_count('abracadabra')"
   ]
  },
  {
   "cell_type": "code",
   "execution_count": 23,
   "metadata": {},
   "outputs": [],
   "source": [
    "def ordered_count(inp):\n",
    "    lst = []\n",
    "    lst_result = []\n",
    "    for car in inp:\n",
    "        if car not in lst:\n",
    "            lst.append(car)\n",
    "            lst_result.append((car, inp.count(car)))\n",
    "    return lst_result"
   ]
  },
  {
   "cell_type": "code",
   "execution_count": 24,
   "metadata": {},
   "outputs": [
    {
     "data": {
      "text/plain": [
       "[('a', 5), ('b', 2), ('r', 2), ('c', 1), ('d', 1)]"
      ]
     },
     "execution_count": 24,
     "metadata": {},
     "output_type": "execute_result"
    }
   ],
   "source": [
    "ordered_count('abracadabra')"
   ]
  }
 ],
 "metadata": {
  "kernelspec": {
   "display_name": "base",
   "language": "python",
   "name": "python3"
  },
  "language_info": {
   "codemirror_mode": {
    "name": "ipython",
    "version": 3
   },
   "file_extension": ".py",
   "mimetype": "text/x-python",
   "name": "python",
   "nbconvert_exporter": "python",
   "pygments_lexer": "ipython3",
   "version": "3.9.13"
  },
  "orig_nbformat": 4,
  "vscode": {
   "interpreter": {
    "hash": "ad2bdc8ecc057115af97d19610ffacc2b4e99fae6737bb82f5d7fb13d2f2c186"
   }
  }
 },
 "nbformat": 4,
 "nbformat_minor": 2
}
