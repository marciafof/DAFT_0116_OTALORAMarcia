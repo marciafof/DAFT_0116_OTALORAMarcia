{
 "cells": [
  {
   "cell_type": "markdown",
   "metadata": {},
   "source": [
    "# Loops\n",
    "\n",
    "Complete the following set of exercises to solidify your knowledge for Loops."
   ]
  },
  {
   "cell_type": "markdown",
   "metadata": {},
   "source": [
    "#### 1. Print first 10 natural numbers using while loop"
   ]
  },
  {
   "cell_type": "code",
   "execution_count": 2,
   "metadata": {},
   "outputs": [
    {
     "name": "stdout",
     "output_type": "stream",
     "text": [
      "1\n",
      "2\n",
      "3\n",
      "4\n",
      "5\n",
      "6\n",
      "7\n",
      "8\n",
      "9\n",
      "10\n"
     ]
    }
   ],
   "source": [
    "i = 1\n",
    "while i<11:\n",
    "    print(i)\n",
    "    i +=1"
   ]
  },
  {
   "cell_type": "markdown",
   "metadata": {},
   "source": [
    "#### 2. Display numbers from a list using loop\n",
    "Write a program to display only those numbers from a list that satisfy the following conditions\n",
    "\n",
    "The number must be divisible by five\n",
    "\n",
    "If the number is greater than 150, then skip it and move to the next number\n",
    "\n",
    "If the number is greater than 500, then stop the loop\n",
    "\n",
    "numbers = [12, 75, 150, 180, 145, 525, 50]"
   ]
  },
  {
   "cell_type": "code",
   "execution_count": 4,
   "metadata": {},
   "outputs": [
    {
     "name": "stdout",
     "output_type": "stream",
     "text": [
      "75\n",
      "150\n",
      "145\n"
     ]
    }
   ],
   "source": [
    "#Condition i%5==0\n",
    "#i>150 \n",
    "numbers = [12, 75, 150, 180, 145, 525, 50]\n",
    "for num in numbers:\n",
    "    if num >500:\n",
    "        break\n",
    "    else:\n",
    "        if num%5==0:\n",
    "            if num>150:\n",
    "                continue\n",
    "            else:\n",
    "                print(num)\n"
   ]
  },
  {
   "cell_type": "markdown",
   "metadata": {},
   "source": [
    "#### 3.Write a Python program to check the validity of a password (input from users).\n",
    "\n",
    "Validation :\n",
    "\n",
    "At least 1 letter between [a-z] and 1 letter between [A-Z].\n",
    "\n",
    "At least 1 number between [0-9].\n",
    "\n",
    "At least 1 character from [$#@].\n",
    "\n",
    "Minimum length 6 characters.\n",
    "\n",
    "Maximum length 16 characters."
   ]
  },
  {
   "cell_type": "code",
   "execution_count": 3,
   "metadata": {},
   "outputs": [],
   "source": [
    "import re"
   ]
  },
  {
   "cell_type": "code",
   "execution_count": 45,
   "metadata": {},
   "outputs": [
    {
     "name": "stdout",
     "output_type": "stream",
     "text": [
      "<re.Match object; span=(0, 9), match='hjgREd4?$'>\n"
     ]
    }
   ],
   "source": [
    "password= \"hjgREd4?$\"\n",
    "#pattern = \"[a-z]+[A-Z]+[0-9]+[$#@]+\"\n",
    "#pattern = \"^(?=.*[0-9])(?=.*[a-zA-Z])([a-zA-Z0-9]+)(?=.*[])+\"\n",
    "pattern = \"^(?=.*[0-9])(?=.*[a-z])(?=.*[A-Z])(?=.*[@$#]).{6,16}$\"\n",
    "\n",
    "print(re.search(pattern, password))\n"
   ]
  },
  {
   "cell_type": "code",
   "execution_count": 9,
   "metadata": {},
   "outputs": [],
   "source": [
    "def checkmdp(maxtrials=3):\n",
    "    flag1 = True\n",
    "    #password= \"hjgREd4?$\"\n",
    "    while flag1:\n",
    "        password = input(\"Please introduce password\")\n",
    "        #Conditions on length\n",
    "        if 6<=len(password)<=16:\n",
    "            #First condition At least on number\n",
    "            if re.search(\"\\d\", password):\n",
    "                #Second condition At least one character between [$@#]\n",
    "                if re.search(\"[$@#]\", password):\n",
    "                    #Third condition at least one Capital:\n",
    "                    if re.search(\"[A-Z]\", password):\n",
    "                        #Last condition\n",
    "                        if re.search(\"[a-z]\", password):\n",
    "                            print(\"All conditions are fullfilled\")\n",
    "                            flag1 = False\n",
    "                        else:\n",
    "                            print(\"Please include at least one lower case letter\")\n",
    "                    else:\n",
    "                        print(\"Please include at least one capital letter\")\n",
    "                else:\n",
    "                    print(\"Please include at least one symbol between [@$#]\")\n",
    "            else:\n",
    "                print(\"Please include at least one number in password\")            \n",
    "        else:\n",
    "            print(\"Please insert a password between 6 and 16 characters\")\n",
    "        maxtrials -=1\n",
    "        if maxtrials == 0:\n",
    "            print(\"Sorry , exceeded number of trials\")\n",
    "            break\n",
    "    return\n",
    "\n"
   ]
  },
  {
   "cell_type": "code",
   "execution_count": 10,
   "metadata": {},
   "outputs": [
    {
     "name": "stdout",
     "output_type": "stream",
     "text": [
      "Please insert a password between 6 and 16 characters\n",
      "Please include at least one number in password\n",
      "Please include at least one symbol between [@$#]\n",
      "Sorry , exceeded number of trials\n"
     ]
    }
   ],
   "source": [
    "checkmdp()"
   ]
  },
  {
   "attachments": {},
   "cell_type": "markdown",
   "metadata": {},
   "source": [
    "#### 4. Break the loop when x is 6, and see what happens with the else block"
   ]
  },
  {
   "cell_type": "code",
   "execution_count": 27,
   "metadata": {},
   "outputs": [
    {
     "name": "stdout",
     "output_type": "stream",
     "text": [
      "0\n",
      "1\n",
      "2\n",
      "3\n",
      "4\n",
      "5\n"
     ]
    }
   ],
   "source": [
    "for x in range(10):\n",
    "    if x == 6:\n",
    "        break\n",
    "    else:\n",
    "        print(x)\n"
   ]
  },
  {
   "cell_type": "markdown",
   "metadata": {},
   "source": [
    "#### 5. Write a Python program to calculate the sum and average of n integer numbers (input from the user). Input 0 to finish.\n"
   ]
  },
  {
   "cell_type": "code",
   "execution_count": 24,
   "metadata": {},
   "outputs": [],
   "source": [
    "def sumavglist():\n",
    "    flag1= True\n",
    "    lst_num = []\n",
    "    while flag1:\n",
    "        if len(lst_num) == 0:\n",
    "            num = int(input(\"Please insert a first number or 0 to cancel\"))\n",
    "        elif len(lst_num) == 1:\n",
    "            num = int(input(\"Please insert a second number to calculate sum and average or 0 to cancel\"))\n",
    "        else:\n",
    "            num = int(input(\"Please insert a number to calculate sum and average or 0 to cancel\"))\n",
    "        print(num)\n",
    "        if num == 0:\n",
    "            flag1 = False\n",
    "            print(\"Cancelled operation\")\n",
    "            if len(lst_num)>2: \n",
    "                print(f\"The sum of the total inserted numbers is {sum(lst_num)} and the average is {sum(lst_num)/len(lst_num)}\")\n",
    "        else:\n",
    "            lst_num.append(num)\n",
    "            if len(lst_num)>1:\n",
    "                print(f\"The sum of the inserted numbers is {sum(lst_num)} and the average is {sum(lst_num)/len(lst_num)}\")\n"
   ]
  },
  {
   "cell_type": "code",
   "execution_count": 26,
   "metadata": {},
   "outputs": [
    {
     "name": "stdout",
     "output_type": "stream",
     "text": [
      "5\n",
      "6\n",
      "The sum of the inserted numbers is 11 and the average is 5.5\n",
      "3\n",
      "The sum of the inserted numbers is 14 and the average is 4.666666666666667\n",
      "0\n",
      "Cancelled operation\n",
      "The sum of the total inserted numbers is 14 and the average is 4.666666666666667\n"
     ]
    }
   ],
   "source": [
    "sumavglist()"
   ]
  },
  {
   "cell_type": "code",
   "execution_count": null,
   "metadata": {},
   "outputs": [],
   "source": []
  }
 ],
 "metadata": {
  "kernelspec": {
   "display_name": "base",
   "language": "python",
   "name": "python3"
  },
  "language_info": {
   "codemirror_mode": {
    "name": "ipython",
    "version": 3
   },
   "file_extension": ".py",
   "mimetype": "text/x-python",
   "name": "python",
   "nbconvert_exporter": "python",
   "pygments_lexer": "ipython3",
   "version": "3.9.13"
  },
  "vscode": {
   "interpreter": {
    "hash": "ad2bdc8ecc057115af97d19610ffacc2b4e99fae6737bb82f5d7fb13d2f2c186"
   }
  }
 },
 "nbformat": 4,
 "nbformat_minor": 2
}
