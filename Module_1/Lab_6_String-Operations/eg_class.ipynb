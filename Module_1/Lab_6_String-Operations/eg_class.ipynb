{
 "cells": [
  {
   "cell_type": "code",
   "execution_count": 2,
   "metadata": {},
   "outputs": [],
   "source": [
    "from collections import Counter"
   ]
  },
  {
   "cell_type": "code",
   "execution_count": 3,
   "metadata": {},
   "outputs": [],
   "source": [
    "lst = [\"adam.smith@gmail.com\", \"alan.turing@yahoo.fr\", \"mary98@hotmail.fr\", \"ketty_jonhson@gmail.com\"]\n"
   ]
  },
  {
   "cell_type": "code",
   "execution_count": 4,
   "metadata": {},
   "outputs": [],
   "source": [
    "lst_domains = []\n",
    "for mail in lst:\n",
    "    lst_domains.append(mail.split(\"@\")[-1])"
   ]
  },
  {
   "cell_type": "code",
   "execution_count": 5,
   "metadata": {},
   "outputs": [],
   "source": [
    "#PYTHONIC WAY\n",
    "lst_domains = [ mail.split(\"@\")[-1] for mail in lst]"
   ]
  },
  {
   "cell_type": "code",
   "execution_count": 6,
   "metadata": {},
   "outputs": [
    {
     "data": {
      "text/plain": [
       "['gmail.com', 'yahoo.fr', 'hotmail.fr', 'gmail.com']"
      ]
     },
     "execution_count": 6,
     "metadata": {},
     "output_type": "execute_result"
    }
   ],
   "source": [
    "lst_domains"
   ]
  },
  {
   "cell_type": "code",
   "execution_count": 10,
   "metadata": {},
   "outputs": [],
   "source": [
    "#Most common returns from most to least\n",
    "popmails = Counter(lst_domains).most_common()"
   ]
  },
  {
   "cell_type": "code",
   "execution_count": 12,
   "metadata": {},
   "outputs": [
    {
     "data": {
      "text/plain": [
       "'gmail.com'"
      ]
     },
     "execution_count": 12,
     "metadata": {},
     "output_type": "execute_result"
    }
   ],
   "source": [
    "popmails[0][0]"
   ]
  },
  {
   "cell_type": "code",
   "execution_count": 9,
   "metadata": {},
   "outputs": [
    {
     "data": {
      "text/plain": [
       "'gmail.com'"
      ]
     },
     "execution_count": 9,
     "metadata": {},
     "output_type": "execute_result"
    }
   ],
   "source": [
    "#max(popmails, key=popmails.get)"
   ]
  },
  {
   "attachments": {},
   "cell_type": "markdown",
   "metadata": {},
   "source": [
    "Replace the odd one"
   ]
  },
  {
   "cell_type": "code",
   "execution_count": 19,
   "metadata": {},
   "outputs": [],
   "source": [
    "test1 = \"Train, bus, car, dog\"\n",
    "test1 = test1.lower()\n",
    "test1\n",
    "test1 = test1.replace(\"dog\", \"tram\")"
   ]
  },
  {
   "cell_type": "code",
   "execution_count": 20,
   "metadata": {},
   "outputs": [
    {
     "data": {
      "text/plain": [
       "'train, bus, car, tram'"
      ]
     },
     "execution_count": 20,
     "metadata": {},
     "output_type": "execute_result"
    }
   ],
   "source": [
    "test1"
   ]
  },
  {
   "cell_type": "code",
   "execution_count": 21,
   "metadata": {},
   "outputs": [],
   "source": [
    "test2 = \"Python, Java, C++, HTML\"\n",
    "test2 = test2.replace(\"HTML\",\"Julia\")"
   ]
  },
  {
   "cell_type": "code",
   "execution_count": 22,
   "metadata": {},
   "outputs": [
    {
     "data": {
      "text/plain": [
       "'Python, Java, C++, Julia'"
      ]
     },
     "execution_count": 22,
     "metadata": {},
     "output_type": "execute_result"
    }
   ],
   "source": [
    "test2"
   ]
  },
  {
   "cell_type": "code",
   "execution_count": 23,
   "metadata": {},
   "outputs": [],
   "source": [
    "import re"
   ]
  },
  {
   "cell_type": "code",
   "execution_count": 35,
   "metadata": {},
   "outputs": [],
   "source": [
    "text = 'My neighbor, Mr. Rogers, has 55 dogs.neigh'"
   ]
  },
  {
   "cell_type": "code",
   "execution_count": 33,
   "metadata": {},
   "outputs": [
    {
     "name": "stdout",
     "output_type": "stream",
     "text": [
      "['neigh', 'neigh']\n"
     ]
    }
   ],
   "source": [
    "print(re.findall(\"neigh\",text))"
   ]
  },
  {
   "cell_type": "code",
   "execution_count": 38,
   "metadata": {},
   "outputs": [
    {
     "name": "stdout",
     "output_type": "stream",
     "text": [
      "['y', 'n', 'e', 'i', 'g', 'h', 'b', 'o', 'r', 'r', 'o', 'g', 'e', 'r', 's', 'h', 'a', 's', 'd', 'o', 'g', 's', 'n', 'e', 'i', 'g', 'h']\n",
      "['ne', 'ig', 'hb', 'or', 'og', 'er', 'ha', 'do', 'gs', 'ne', 'ig']\n"
     ]
    }
   ],
   "source": [
    "print(re.findall(\"[a-z]\",text))\n",
    "#Combination\n",
    "print(re.findall(\"[a-z][a-z]\",text))"
   ]
  },
  {
   "cell_type": "code",
   "execution_count": 29,
   "metadata": {},
   "outputs": [
    {
     "name": "stdout",
     "output_type": "stream",
     "text": [
      "['M', ' ', ',', ' ', 'M', '.', ' ', 'R', ',', ' ', ' ', '5', ' ', '.']\n"
     ]
    }
   ],
   "source": [
    "print(re.findall('[^a-z]', text))"
   ]
  },
  {
   "cell_type": "code",
   "execution_count": 36,
   "metadata": {},
   "outputs": [
    {
     "name": "stdout",
     "output_type": "stream",
     "text": [
      "['5', '5']\n"
     ]
    }
   ],
   "source": [
    "print(re.findall(\"5\",text))"
   ]
  },
  {
   "cell_type": "code",
   "execution_count": 39,
   "metadata": {},
   "outputs": [
    {
     "name": "stdout",
     "output_type": "stream",
     "text": [
      "['55']\n"
     ]
    }
   ],
   "source": [
    "print(re.findall(\"[\\d][\\d]\",text))"
   ]
  },
  {
   "cell_type": "code",
   "execution_count": 40,
   "metadata": {},
   "outputs": [],
   "source": [
    "text = 'My neighbor, Mr. Rogers, from house 55 born in 1987 has 5 dogs since 2022'"
   ]
  },
  {
   "cell_type": "code",
   "execution_count": 41,
   "metadata": {},
   "outputs": [
    {
     "name": "stdout",
     "output_type": "stream",
     "text": [
      "['1987', '2022']\n"
     ]
    }
   ],
   "source": [
    "print(re.findall(\"[0-9]{4}\",text)) #Four times digits between 0-9"
   ]
  },
  {
   "cell_type": "code",
   "execution_count": 42,
   "metadata": {},
   "outputs": [
    {
     "name": "stdout",
     "output_type": "stream",
     "text": [
      "['55', '1987', '2022']\n"
     ]
    }
   ],
   "source": [
    "print(re.findall(\"[0-9]{2,4}\",text)) #Two, or Four times digits between 0-9"
   ]
  },
  {
   "cell_type": "code",
   "execution_count": 43,
   "metadata": {},
   "outputs": [
    {
     "name": "stdout",
     "output_type": "stream",
     "text": [
      "['5', '5', '1', '9', '8', '7', '5', '2', '0', '2', '2']\n"
     ]
    }
   ],
   "source": [
    "print(re.findall(\"\\d\",text)) #Four times digits between 0-9"
   ]
  },
  {
   "cell_type": "code",
   "execution_count": 44,
   "metadata": {},
   "outputs": [
    {
     "name": "stdout",
     "output_type": "stream",
     "text": [
      "['1987', '2022']\n"
     ]
    }
   ],
   "source": [
    "print(re.findall(\"\\d{4}\",text)) #Four times digits between 0-9"
   ]
  },
  {
   "attachments": {},
   "cell_type": "markdown",
   "metadata": {},
   "source": [
    "Write a regular expression which matches strings which starts with a sequence of digits - at least one digit - followed by a blank."
   ]
  },
  {
   "cell_type": "code",
   "execution_count": 46,
   "metadata": {},
   "outputs": [],
   "source": [
    "text = 'My neighbor, Mr. Rogers, from house 55Hou born in 1987 has 5 dogs since 2022'"
   ]
  },
  {
   "cell_type": "code",
   "execution_count": 51,
   "metadata": {},
   "outputs": [],
   "source": [
    "pattern = \"\\d+[a-z]\""
   ]
  },
  {
   "cell_type": "code",
   "execution_count": 52,
   "metadata": {},
   "outputs": [
    {
     "name": "stdout",
     "output_type": "stream",
     "text": [
      "[]\n"
     ]
    }
   ],
   "source": [
    "print(re.findall(pattern,text)) #Four times digits between 0-9"
   ]
  },
  {
   "attachments": {},
   "cell_type": "markdown",
   "metadata": {},
   "source": [
    "EXCERCISE 2"
   ]
  },
  {
   "cell_type": "code",
   "execution_count": 53,
   "metadata": {},
   "outputs": [],
   "source": [
    "text = \"\"\"\n",
    "\n",
    "\n",
    "\n",
    "\n",
    "\n",
    "\n",
    "\n",
    "\n",
    "\n",
    "\n",
    "\n",
    "Dear sender,\n",
    "\n",
    "\n",
    "Thank you for your email. I am on maternity leave until January 3, 2022. \n",
    "\n",
    "\n",
    "For urgent matters, please contact finance@adyen.com\n",
    "\n",
    "\n",
    "Thank you for your message. Lauren Hackett has left The Economist\n",
    "Group. In her absence please direct your message to one of  the\n",
    "following:\n",
    "\n",
    "\n",
    "- The Economist Editorial: Holly Donahue in the UK and ROW\n",
    "<hollydonahue@economist.com> or Tom Amos in the US\n",
    "<tomamos@economist.com>\n",
    "- The Economist business, EIU, Events and Client Solutions: Jessica\n",
    "Keating <jessicakeating@economist.com>\n",
    "- Digital Communications: Paddy Crowley <paddycrowley@economist.com>\n",
    "- Internal Communications: Stephanie Sampiere <stephaniesampiere@economist.com>\n",
    "\n",
    "\n",
    "If you are looking to get in contact with Lauren she can be reached at\n",
    "Lauren@LaurenHackett.com.\n",
    "\n",
    "\"\"\""
   ]
  },
  {
   "cell_type": "code",
   "execution_count": 124,
   "metadata": {},
   "outputs": [],
   "source": [
    "pattern=r\"[\\w+\\.-]+@[\\w+]+\\.[\\w+]+\""
   ]
  },
  {
   "cell_type": "code",
   "execution_count": 125,
   "metadata": {},
   "outputs": [
    {
     "name": "stdout",
     "output_type": "stream",
     "text": [
      "['finance@adyen.com', 'hollydonahue@economist.com', 'tomamos@economist.com', 'jessicakeating@economist.com', 'paddycrowley@economist.com', 'stephaniesampiere@economist.com', 'Lauren@LaurenHackett.com']\n"
     ]
    }
   ],
   "source": [
    "print(re.findall(pattern,text)) #Four times digits between 0-9"
   ]
  },
  {
   "cell_type": "code",
   "execution_count": 126,
   "metadata": {},
   "outputs": [],
   "source": [
    "pattern=r\"[\\w+\\.]+@[\\w+]+\\.[\\w+]+\""
   ]
  },
  {
   "cell_type": "code",
   "execution_count": 127,
   "metadata": {},
   "outputs": [
    {
     "name": "stdout",
     "output_type": "stream",
     "text": [
      "['finance@adyen.com', 'hollydonahue@economist.com', 'tomamos@economist.com', 'jessicakeating@economist.com', 'paddycrowley@economist.com', 'stephaniesampiere@economist.com', 'Lauren@LaurenHackett.com']\n"
     ]
    }
   ],
   "source": [
    "print(re.findall(pattern,text)) #Four times digits between 0-9"
   ]
  },
  {
   "cell_type": "code",
   "execution_count": null,
   "metadata": {},
   "outputs": [],
   "source": []
  }
 ],
 "metadata": {
  "kernelspec": {
   "display_name": "base",
   "language": "python",
   "name": "python3"
  },
  "language_info": {
   "codemirror_mode": {
    "name": "ipython",
    "version": 3
   },
   "file_extension": ".py",
   "mimetype": "text/x-python",
   "name": "python",
   "nbconvert_exporter": "python",
   "pygments_lexer": "ipython3",
   "version": "3.9.13"
  },
  "orig_nbformat": 4,
  "vscode": {
   "interpreter": {
    "hash": "ad2bdc8ecc057115af97d19610ffacc2b4e99fae6737bb82f5d7fb13d2f2c186"
   }
  }
 },
 "nbformat": 4,
 "nbformat_minor": 2
}
