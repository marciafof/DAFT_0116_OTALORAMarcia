{
 "cells": [
  {
   "cell_type": "code",
   "execution_count": 1,
   "id": "0a86a6ff",
   "metadata": {},
   "outputs": [],
   "source": [
    "# !pip install wbgapi"
   ]
  },
  {
   "cell_type": "code",
   "execution_count": 2,
   "id": "be4091cb",
   "metadata": {},
   "outputs": [],
   "source": [
    "import matplotlib.pyplot as plt\n",
    "import wbgapi as wb\n",
    "import pandas as pd\n",
    "\n",
    "# help(wb)\n",
    "# wb.source.info()\n"
   ]
  },
  {
   "cell_type": "code",
   "execution_count": 66,
   "id": "05e4947d",
   "metadata": {},
   "outputs": [],
   "source": [
    "income = wb.economy.info().items\n",
    "data_income = pd.DataFrame(income)\n",
    "data_income.head(5)\n",
    "data_income.to_csv('data_income.csv')"
   ]
  },
  {
   "cell_type": "code",
   "execution_count": 65,
   "id": "d269854d",
   "metadata": {},
   "outputs": [],
   "source": [
    "region = wb.region.info().items\n",
    "\n",
    "data_region = pd.DataFrame(region)\n",
    "data_region.head(10)\n",
    "data_region.to_csv('data_region.csv')\n",
    "\n",
    "# data_region.head(10)\n",
    "# data_region\n",
    "# type(region.table)"
   ]
  },
  {
   "cell_type": "code",
   "execution_count": 85,
   "id": "afae02d4",
   "metadata": {},
   "outputs": [],
   "source": [
    "economy = wb.economy.info().items\n",
    "data_economy = pd.DataFrame(economy)\n",
    "data_economy.head(10)\n",
    "data_economy.to_csv('data_economy.csv')\n"
   ]
  },
  {
   "cell_type": "code",
   "execution_count": 87,
   "id": "ca88e955",
   "metadata": {},
   "outputs": [
    {
     "data": {
      "text/html": [
       "<div class=\"wbgapi\"><table>\n",
       "<thead>\n",
       "<tr><th>id               </th><th>value                                                                                     </th></tr>\n",
       "</thead>\n",
       "<tbody>\n",
       "<tr><td>EN.POP.EL5M.UR.ZS</td><td>Urban population living in areas where elevation is below 5 meters (% of total population)</td></tr>\n",
       "<tr><td>SP.URB.GROW      </td><td>Urban population growth (annual %)                                                        </td></tr>\n",
       "<tr><td>SP.URB.TOTL      </td><td>Urban population                                                                          </td></tr>\n",
       "<tr><td>SP.URB.TOTL.IN.ZS</td><td>Urban population (% of total population)                                                  </td></tr>\n",
       "<tr><td>                 </td><td>4 elements                                                                                </td></tr>\n",
       "</tbody>\n",
       "</table></div>"
      ],
      "text/plain": [
       "id                 value\n",
       "-----------------  ------------------------------------------------------------------------------------------\n",
       "EN.POP.EL5M.UR.ZS  Urban population living in areas where elevation is below 5 meters (% of total population)\n",
       "SP.URB.GROW        Urban population growth (annual %)\n",
       "SP.URB.TOTL        Urban population\n",
       "SP.URB.TOTL.IN.ZS  Urban population (% of total population)\n",
       "                   4 elements"
      ]
     },
     "execution_count": 87,
     "metadata": {},
     "output_type": "execute_result"
    }
   ],
   "source": [
    "wb.series.info(q = \"urban population\")"
   ]
  },
  {
   "cell_type": "code",
   "execution_count": 67,
   "id": "84c67a61",
   "metadata": {},
   "outputs": [],
   "source": [
    "CO2 = wb.data.DataFrame('EN.ATM.CO2E.PC', time = range(2011, 2022))\n",
    "CO2.head(10)\n",
    "CO2.to_csv('data_CO2.csv')"
   ]
  },
  {
   "cell_type": "code",
   "execution_count": 88,
   "id": "5a6a3b53",
   "metadata": {},
   "outputs": [],
   "source": [
    "urban_pop = wb.data.DataFrame('SP.URB.TOTL', time = range(2011, 2022))\n",
    "urban_pop.head(10)\n",
    "urban_pop.to_csv('data_urban_population.csv')"
   ]
  },
  {
   "cell_type": "code",
   "execution_count": 9,
   "id": "e4a32df5",
   "metadata": {},
   "outputs": [],
   "source": [
    "# ren = wb.data.DataFrame('IC.REG.DURS',['FR','UKR','EST'], time = range(2003, 2020))\n",
    "# ren\n",
    "# ren.plot.bar()"
   ]
  },
  {
   "cell_type": "code",
   "execution_count": 10,
   "id": "d819620f",
   "metadata": {},
   "outputs": [],
   "source": [
    "# wb.data.DataFrame('IC.REG.DURS',['FRA','UKR','EST'], time = range(2003, 2019, 3)).T.plot()\n",
    "# T = transpose\n",
    "# ren.T.plot()"
   ]
  }
 ],
 "metadata": {
  "kernelspec": {
   "display_name": "Python 3",
   "language": "python",
   "name": "python3"
  },
  "language_info": {
   "codemirror_mode": {
    "name": "ipython",
    "version": 3
   },
   "file_extension": ".py",
   "mimetype": "text/x-python",
   "name": "python",
   "nbconvert_exporter": "python",
   "pygments_lexer": "ipython3",
   "version": "3.10.4"
  },
  "vscode": {
   "interpreter": {
    "hash": "096d13a557f1eefbcff4e46a0332d49d83cfff748d823998326338428f68fa0f"
   }
  }
 },
 "nbformat": 4,
 "nbformat_minor": 5
}
